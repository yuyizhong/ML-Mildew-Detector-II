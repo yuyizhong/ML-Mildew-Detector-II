{
  "cells": [
    {
      "cell_type": "markdown",
      "metadata": {
        "id": "0aStgWSO0E0E"
      },
      "source": [
        "# **Modelling and Evaluation Notebook**"
      ]
    },
    {
      "cell_type": "markdown",
      "metadata": {
        "id": "1eLEkw5O0ECa"
      },
      "source": [
        "## Objectives\n",
        "\n",
        "* Answer business requirement 2:\n",
        "    - The client is interested to predict whether a cherry leaf is healthy or contains powdery mildew. \n",
        "    - The agreed criteria for the model performance is 97% accuracy.\n",
        "\n",
        "## Inputs\n",
        "\n",
        "* inputs/mildew_dataset/cherry-leaves/train\n",
        "* inputs/mildew_dataset/cherry-leaves/test\n",
        "* inputs/mildew_dataset/cherry-leaves/validation\n",
        "* image shape embeddings\n",
        "\n",
        "## Outputs\n",
        "\n",
        "* Cherry Leave Images distribution plot in train, validation, and test dataset.\n",
        "* Data augmentation.\n",
        "* Class indices to change prediction inference in labels.\n",
        "* ML model creation and training.\n",
        "* Save trained model.\n",
        "* Plot model earning curve for performance.\n",
        "* Model evaluation on pickle file.\n",
        "* Tuning model hyperparameters for achieving agreed accuracy. \n",
        "* Saved improved model and training metrics\n",
        "* Validation model on the random image file prediction.\n",
        "\n",
        "## Additional Comments"
      ]
    },
    {
      "cell_type": "markdown",
      "metadata": {
        "id": "9uWZXH9LwoQg"
      },
      "source": [
        "---"
      ]
    },
    {
      "cell_type": "markdown",
      "metadata": {
        "id": "cqP-UeN-z3i2"
      },
      "source": [
        "## Change working directory"
      ]
    },
    {
      "cell_type": "code",
      "execution_count": null,
      "metadata": {
        "id": "wZfF_j-Bz3i4",
        "outputId": "66943449-1436-4c3d-85c7-b85f9f78349b"
      },
      "outputs": [],
      "source": [
        "import os\n",
        "current_dir = os.getcwd()\n",
        "current_dir"
      ]
    },
    {
      "cell_type": "code",
      "execution_count": null,
      "metadata": {
        "id": "TwHsQRWjz3i9",
        "outputId": "86849db3-cd2f-4cc5-ebb8-2d0caafa1a2c"
      },
      "outputs": [],
      "source": [
        "os.chdir(os.path.dirname(current_dir))\n",
        "print(\"You set a new current directory\")"
      ]
    },
    {
      "cell_type": "code",
      "execution_count": null,
      "metadata": {
        "id": "vz3S-_kjz3jA",
        "outputId": "00b79ae4-75d0-4a96-d193-ac9ef9847ea2"
      },
      "outputs": [],
      "source": [
        "current_dir = os.getcwd()\n",
        "current_dir"
      ]
    },
    {
      "cell_type": "markdown",
      "metadata": {},
      "source": [
        "### Import libraries"
      ]
    },
    {
      "cell_type": "code",
      "execution_count": 6,
      "metadata": {},
      "outputs": [],
      "source": [
        "import pandas as pd\n",
        "import numpy as np\n",
        "import matplotlib.pyplot as plt\n",
        "import seaborn as sns\n",
        "import joblib\n",
        "from matplotlib.image import imread"
      ]
    },
    {
      "cell_type": "markdown",
      "metadata": {},
      "source": [
        "### Set input directories for train, validation and test paths"
      ]
    },
    {
      "cell_type": "code",
      "execution_count": 7,
      "metadata": {},
      "outputs": [],
      "source": [
        "my_data_dir = 'inputs/mildew_dataset/cherry-leaves'\n",
        "train_path = my_data_dir + '/train'\n",
        "val_path = my_data_dir + '/validation'\n",
        "test_path = my_data_dir + '/test'"
      ]
    },
    {
      "cell_type": "markdown",
      "metadata": {},
      "source": [
        "### Set output directory"
      ]
    },
    {
      "cell_type": "code",
      "execution_count": 8,
      "metadata": {},
      "outputs": [
        {
          "name": "stdout",
          "output_type": "stream",
          "text": [
            "Old version is already available create a new version.\n"
          ]
        }
      ],
      "source": [
        "version = 'v1-mildew'\n",
        "file_path = f'outputs/{version}'\n",
        "\n",
        "if 'outputs' in os.listdir(current_dir) and version in os.listdir(current_dir + '/outputs'):\n",
        "    print('Old version is already available create a new version.')\n",
        "    pass\n",
        "else:\n",
        "    os.makedirs(name=file_path)"
      ]
    },
    {
      "cell_type": "markdown",
      "metadata": {},
      "source": [
        "### Set label names"
      ]
    },
    {
      "cell_type": "code",
      "execution_count": 9,
      "metadata": {},
      "outputs": [
        {
          "name": "stdout",
          "output_type": "stream",
          "text": [
            "Class Labels are ['healthy', 'powdery_mildew']\n"
          ]
        }
      ],
      "source": [
        "# Set the labels\n",
        "labels = os.listdir(train_path)\n",
        "print('Class Labels are', labels)"
      ]
    },
    {
      "cell_type": "markdown",
      "metadata": {},
      "source": [
        "### Set image shape"
      ]
    },
    {
      "cell_type": "code",
      "execution_count": 32,
      "metadata": {},
      "outputs": [
        {
          "data": {
            "text/plain": [
              "(256, 256, 3)"
            ]
          },
          "execution_count": 32,
          "metadata": {},
          "output_type": "execute_result"
        }
      ],
      "source": [
        "## Import image shape embedding saved at repo\n",
        "version = 'v1-mildew'\n",
        "image_shape = joblib.load(filename=f\"outputs/{version}/image_shape.pkl\")\n",
        "image_shape"
      ]
    },
    {
      "cell_type": "markdown",
      "metadata": {},
      "source": [
        "---"
      ]
    },
    {
      "cell_type": "markdown",
      "metadata": {},
      "source": [
        "## Plot number of images in train, test and validation dataset"
      ]
    },
    {
      "cell_type": "code",
      "execution_count": 10,
      "metadata": {},
      "outputs": [
        {
          "name": "stdout",
          "output_type": "stream",
          "text": [
            "* train - healthy: 1472 images\n",
            "* train - powdery_mildew: 1472 images\n",
            "* validation - healthy: 210 images\n",
            "* validation - powdery_mildew: 210 images\n",
            "* test - healthy: 422 images\n",
            "* test - powdery_mildew: 422 images\n",
            "\n",
            "\n"
          ]
        },
        {
          "data": {
            "image/png": "[encoded data removed]",
            "text/plain": [
              "<Figure size 1000x600 with 1 Axes>"
            ]
          },
          "metadata": {},
          "output_type": "display_data"
        }
      ],
      "source": [
        "import glob\n",
        "\n",
        "data_dirs = ['train', 'validation', 'test']\n",
        "\n",
        "df_freq = pd.DataFrame([])\n",
        "\n",
        "for folder in data_dirs:\n",
        "    for label in os.listdir(os.path.join(my_data_dir, folder)):\n",
        "        image_count = len(os.listdir(os.path.join(my_data_dir, folder, label)))\n",
        "        df_freq = df_freq.append(pd.Series(data={'Set': folder, 'Label': label, 'Frequency': image_count}), ignore_index=True)\n",
        "        print(f\"* {folder} - {label}: {image_count} images\")\n",
        "\n",
        "print(\"\\n\")\n",
        "sns.set_style(\"whitegrid\")\n",
        "plt.figure(figsize=(10, 6))  \n",
        "sns.barplot(data=df_freq, x='Set', y='Frequency', hue='Label')\n",
        "plt.title(\"Image Distribution in Train, Validation, and Test data\")\n",
        "plt.xlabel(\"Set\")\n",
        "plt.ylabel(\"Frequency\")\n",
        "plt.savefig(f'{file_path}/labels_distribution.png', bbox_inches='tight', dpi=150)\n",
        "plt.show()"
      ]
    },
    {
      "cell_type": "markdown",
      "metadata": {},
      "source": [
        "----"
      ]
    },
    {
      "cell_type": "markdown",
      "metadata": {},
      "source": [
        "## Image data augmentation"
      ]
    },
    {
      "cell_type": "markdown",
      "metadata": {},
      "source": [
        "### Import and Initialize ImageDataGenerator"
      ]
    },
    {
      "cell_type": "markdown",
      "metadata": {},
      "source": [
        "Generate augmented images to produce variations of the original images for training the deep learning model, thereby enhancing its ability to handle a wider range of real-world scenarios."
      ]
    },
    {
      "cell_type": "code",
      "execution_count": 35,
      "metadata": {},
      "outputs": [],
      "source": [
        "from tensorflow.keras.preprocessing.image import ImageDataGenerator\n",
        "augmented_image_data = ImageDataGenerator(rotation_range=20,\n",
        "                                          width_shift_range=0.10,\n",
        "                                          height_shift_range=0.10,\n",
        "                                          shear_range=0.1,\n",
        "                                          zoom_range=0.1,\n",
        "                                          horizontal_flip=True,\n",
        "                                          vertical_flip=True,\n",
        "                                          fill_mode='nearest',\n",
        "                                          rescale=1./255\n",
        "                                          )"
      ]
    },
    {
      "cell_type": "markdown",
      "metadata": {},
      "source": [
        "### Augment training image dataset"
      ]
    },
    {
      "cell_type": "code",
      "execution_count": 36,
      "metadata": {},
      "outputs": [
        {
          "name": "stdout",
          "output_type": "stream",
          "text": [
            "Found 2944 images belonging to 2 classes.\n"
          ]
        },
        {
          "data": {
            "text/plain": [
              "{'healthy': 0, 'powdery_mildew': 1}"
            ]
          },
          "execution_count": 36,
          "metadata": {},
          "output_type": "execute_result"
        }
      ],
      "source": [
        "batch_size = 20  # Set batch size\n",
        "train_set = augmented_image_data.flow_from_directory(train_path,\n",
        "                                                     target_size=image_shape[:2],\n",
        "                                                     color_mode='rgb',\n",
        "                                                     batch_size=batch_size,\n",
        "                                                     class_mode='binary',\n",
        "                                                     shuffle=True\n",
        "                                                     )\n",
        "\n",
        "train_set.class_indices"
      ]
    },
    {
      "cell_type": "markdown",
      "metadata": {},
      "source": [
        "### Augment validation image dataset"
      ]
    },
    {
      "cell_type": "code",
      "execution_count": 37,
      "metadata": {},
      "outputs": [
        {
          "name": "stdout",
          "output_type": "stream",
          "text": [
            "Found 420 images belonging to 2 classes.\n"
          ]
        },
        {
          "data": {
            "text/plain": [
              "{'healthy': 0, 'powdery_mildew': 1}"
            ]
          },
          "execution_count": 37,
          "metadata": {},
          "output_type": "execute_result"
        }
      ],
      "source": [
        "validation_set = ImageDataGenerator(rescale=1./255).flow_from_directory(val_path,\n",
        "                                                                        target_size=image_shape[:2],\n",
        "                                                                        color_mode='rgb',\n",
        "                                                                        batch_size=batch_size,\n",
        "                                                                        class_mode='binary',\n",
        "                                                                        shuffle=False\n",
        "                                                                        )\n",
        "\n",
        "validation_set.class_indices"
      ]
    },
    {
      "cell_type": "markdown",
      "metadata": {},
      "source": [
        "### Augment test image dataset"
      ]
    },
    {
      "cell_type": "code",
      "execution_count": 38,
      "metadata": {},
      "outputs": [
        {
          "name": "stdout",
          "output_type": "stream",
          "text": [
            "Found 844 images belonging to 2 classes.\n"
          ]
        },
        {
          "data": {
            "text/plain": [
              "{'healthy': 0, 'powdery_mildew': 1}"
            ]
          },
          "execution_count": 38,
          "metadata": {},
          "output_type": "execute_result"
        }
      ],
      "source": [
        "test_set = ImageDataGenerator(rescale=1./255).flow_from_directory(test_path,\n",
        "                                                                  target_size=image_shape[:2],\n",
        "                                                                  color_mode='rgb',\n",
        "                                                                  batch_size=batch_size,\n",
        "                                                                  class_mode='binary',\n",
        "                                                                  shuffle=False\n",
        "                                                                  )\n",
        "\n",
        "test_set.class_indices"
      ]
    },
    {
      "cell_type": "markdown",
      "metadata": {},
      "source": [
        "## Save class_indices"
      ]
    },
    {
      "cell_type": "code",
      "execution_count": 39,
      "metadata": {},
      "outputs": [
        {
          "data": {
            "text/plain": [
              "['outputs/v1-mildew/class_indices.pkl']"
            ]
          },
          "execution_count": 39,
          "metadata": {},
          "output_type": "execute_result"
        }
      ],
      "source": [
        "joblib.dump(value=train_set.class_indices,\n",
        "            filename=f\"{file_path}/class_indices.pkl\")"
      ]
    },
    {
      "cell_type": "markdown",
      "metadata": {},
      "source": [
        "---"
      ]
    },
    {
      "cell_type": "markdown",
      "metadata": {},
      "source": [
        "## Model Creation"
      ]
    },
    {
      "cell_type": "markdown",
      "metadata": {},
      "source": [
        "### Set up ML Model layout"
      ]
    },
    {
      "cell_type": "markdown",
      "metadata": {},
      "source": [
        "* Import model package and create model"
      ]
    },
    {
      "cell_type": "code",
      "execution_count": null,
      "metadata": {},
      "outputs": [],
      "source": [
        "from tensorflow.keras.optimizers import Adam\n",
        "from tensorflow.keras.models import Sequential\n",
        "from tensorflow.keras.layers import Conv2D, MaxPooling2D, Flatten, Dense, BatchNormalization, Dropout\n",
        "from tensorflow.keras.callbacks import EarlyStopping\n",
        "from tensorflow.keras.callbacks import ReduceLROnPlateau\n",
        "\n",
        "def create_mildew_tf_model():\n",
        "    model = Sequential()\n",
        "\n",
        "    # Add Convolutional and Pooling Layers\n",
        "    model.add(Conv2D(filters=16, kernel_size=(3, 3), input_shape=image_shape, activation='relu'))\n",
        "    model.add(Dropout(0.2))  # Add dropout after the first convolutional layer\n",
        "    model.add(MaxPooling2D(pool_size=(2, 2)))\n",
        "\n",
        "    model.add(Conv2D(filters=32, kernel_size=(3, 3), activation='relu'))\n",
        "    model.add(Dropout(0.3))  # Add dropout after the second convolutional layer\n",
        "    model.add(MaxPooling2D(pool_size=(2, 2)))\n",
        "\n",
        "    model.add(Conv2D(filters=32, kernel_size=(3, 3), activation='relu'))\n",
        "    model.add(Dropout(0.3))  # Add dropout after the third convolutional layer\n",
        "    model.add(MaxPooling2D(pool_size=(2, 2)))\n",
        "\n",
        "    model.add(Flatten())\n",
        "\n",
        "    # Add Fully Connected Layers\n",
        "    model.add(Dense(128, activation='relu'))\n",
        "    model.add(Dropout(0.5))\n",
        "\n",
        "    # Output Layer\n",
        "    model.add(Dense(1, activation='sigmoid'))\n",
        "\n",
        "    # Compile the model with adjusted learning rate and metrics\n",
        "    optimizer = Adam(learning_rate=0.001) #change optimizer\n",
        "    model.compile(loss='binary_crossentropy', optimizer=optimizer, metrics=['accuracy'])\n",
        "\n",
        "    return model\n",
        "\n",
        "# Define callbacks for training\n",
        "early_stopping = EarlyStopping(monitor='val_loss', patience=5, verbose=1, restore_best_weights=True)\n",
        "reduce_lr = ReduceLROnPlateau(monitor='val_loss', factor=0.1, patience=5, verbose=1)\n",
        "\n",
        "# Fit the model with modified batch size and epochs\n",
        "model = create_mildew_tf_model()\n",
        "history = model.fit(\n",
        "    train_set,\n",
        "    validation_data=validation_set,\n",
        "    epochs=50,  \n",
        "    batch_size=25,  \n",
        "    callbacks=[early_stopping, reduce_lr]  # Apply early stopping and learning rate reduction\n",
        ")"
      ]
    },
    {
      "cell_type": "code",
      "execution_count": 70,
      "metadata": {},
      "outputs": [
        {
          "name": "stdout",
          "output_type": "stream",
          "text": [
            "Model: \"sequential_9\"\n",
            "_________________________________________________________________\n",
            "Layer (type)                 Output Shape              Param #   \n",
            "=================================================================\n",
            "conv2d_27 (Conv2D)           (None, 254, 254, 16)      448       \n",
            "_________________________________________________________________\n",
            "dropout_18 (Dropout)         (None, 254, 254, 16)      0         \n",
            "_________________________________________________________________\n",
            "max_pooling2d_27 (MaxPooling (None, 127, 127, 16)      0         \n",
            "_________________________________________________________________\n",
            "conv2d_28 (Conv2D)           (None, 125, 125, 32)      4640      \n",
            "_________________________________________________________________\n",
            "dropout_19 (Dropout)         (None, 125, 125, 32)      0         \n",
            "_________________________________________________________________\n",
            "max_pooling2d_28 (MaxPooling (None, 62, 62, 32)        0         \n",
            "_________________________________________________________________\n",
            "conv2d_29 (Conv2D)           (None, 60, 60, 32)        9248      \n",
            "_________________________________________________________________\n",
            "dropout_20 (Dropout)         (None, 60, 60, 32)        0         \n",
            "_________________________________________________________________\n",
            "max_pooling2d_29 (MaxPooling (None, 30, 30, 32)        0         \n",
            "_________________________________________________________________\n",
            "flatten_9 (Flatten)          (None, 28800)             0         \n",
            "_________________________________________________________________\n",
            "dense_18 (Dense)             (None, 128)               3686528   \n",
            "_________________________________________________________________\n",
            "dropout_21 (Dropout)         (None, 128)               0         \n",
            "_________________________________________________________________\n",
            "dense_19 (Dense)             (None, 1)                 129       \n",
            "=================================================================\n",
            "Total params: 3,700,993\n",
            "Trainable params: 3,700,993\n",
            "Non-trainable params: 0\n",
            "_________________________________________________________________\n"
          ]
        }
      ],
      "source": [
        "create_mildew_tf_model().summary()"
      ]
    },
    {
      "cell_type": "markdown",
      "metadata": {},
      "source": [
        "### Save the best tuned model and training history"
      ]
    },
    {
      "cell_type": "code",
      "execution_count": 17,
      "metadata": {},
      "outputs": [],
      "source": [
        "# Save the model and training history for future reference\n",
        "model.save('outputs/v1-mildew/mildew_detecting_model.h5')"
      ]
    },
    {
      "cell_type": "markdown",
      "metadata": {},
      "source": [
        "## Model Evaluation"
      ]
    },
    {
      "cell_type": "markdown",
      "metadata": {},
      "source": [
        "### Plot model learning curve for its fitting status"
      ]
    },
    {
      "cell_type": "code",
      "execution_count": null,
      "metadata": {},
      "outputs": [],
      "source": [
        "#plot model learning curve\n",
        "losses = pd.DataFrame(model.history.history)\n",
        "\n",
        "# Create subplots for loss and accuracy\n",
        "fig, (ax1, ax2) = plt.subplots(1, 2, figsize=(12, 5))\n",
        "\n",
        "# Set the style\n",
        "sns.set(style=\"whitegrid\")\n",
        "\n",
        "# Loss plot\n",
        "losses[['loss', 'val_loss']].plot(style='.-', ax=ax1)\n",
        "ax1.set_title(\"Loss\")\n",
        "ax1.set_xlabel(\"Epoch\")\n",
        "ax1.set_ylabel(\"Loss\")\n",
        "ax1.legend([\"Training Loss\", \"Validation Loss\"])\n",
        "ax1.grid(True)\n",
        "\n",
        "# Accuracy plot\n",
        "losses[['accuracy', 'val_accuracy']].plot(style='.-', ax=ax2)\n",
        "ax2.set_title(\"Accuracy\")\n",
        "ax2.set_xlabel(\"Epoch\")\n",
        "ax2.set_ylabel(\"Accuracy\")\n",
        "ax2.legend([\"Training Accuracy\", \"Validation Accuracy\"])\n",
        "ax2.grid(True)\n",
        "\n",
        "# Save the plots\n",
        "plt.savefig(f'{file_path}/model_training_metrics3.png', bbox_inches='tight', dpi=150)\n",
        "\n",
        "# Show the combined plot\n",
        "plt.show()"
      ]
    },
    {
      "cell_type": "markdown",
      "metadata": {},
      "source": [
        "### Fit the model with test dataset for loss and accuracy evaluation "
      ]
    },
    {
      "cell_type": "code",
      "execution_count": 41,
      "metadata": {},
      "outputs": [
        {
          "name": "stdout",
          "output_type": "stream",
          "text": [
            "43/43 [==============================] - 4s 81ms/step - loss: 0.0049 - accuracy: 0.9988\n"
          ]
        },
        {
          "data": {
            "text/plain": [
              "['outputs/v1-mildew/mildew_model_evaluation3.pkl']"
            ]
          },
          "execution_count": 41,
          "metadata": {},
          "output_type": "execute_result"
        }
      ],
      "source": [
        "#Evaluation on test data\n",
        "\n",
        "#Load saved model\n",
        "from keras.models import load_model\n",
        "model = load_model('outputs/v1-mildew/mildew_detecting_model.h5')\n",
        "\n",
        "#Fit the model to test set\n",
        "mildew_eva = model.evaluate(test_set)\n",
        "\n",
        "joblib.dump(value=mildew_eva,\n",
        "            filename=f\"outputs/v1-mildew/mildew_model_evaluation3.pkl\")"
      ]
    },
    {
      "cell_type": "markdown",
      "metadata": {},
      "source": [
        "Plot the test set evaluation metrics bart chart"
      ]
    },
    {
      "cell_type": "code",
      "execution_count": 42,
      "metadata": {},
      "outputs": [
        {
          "name": "stdout",
          "output_type": "stream",
          "text": [
            "43/43 [==============================] - 4s 82ms/step - loss: 0.0049 - accuracy: 0.9988\n"
          ]
        },
        {
          "data": {
            "image/png": "[encoded data removed]",
            "text/plain": [
              "<Figure size 600x800 with 1 Axes>"
            ]
          },
          "metadata": {},
          "output_type": "display_data"
        }
      ],
      "source": [
        "loss, accuracy = model.evaluate(test_set)\n",
        "sns.set(style='whitegrid')\n",
        "\n",
        "# Plot the evaluation metrics\n",
        "plt.figure(figsize=(6, 8))\n",
        "\n",
        "# Bar plot for accuracy and loss\n",
        "metrics = ['Accuracy', 'Loss']\n",
        "values = [accuracy, loss]\n",
        "\n",
        "plt.bar(metrics, values, color=['orange', 'red'])\n",
        "plt.xlabel('Metrics')\n",
        "plt.ylabel('Values')\n",
        "\n",
        "# Display the values on the bars\n",
        "for i in range(len(metrics)):\n",
        "    plt.text(i, values[i], f'{values[i]:.2f}', ha='center', va='bottom', fontsize=12)\n",
        "\n",
        "plt.title('Evaluation Metrics')\n",
        "plt.savefig(f'{file_path}/model_evaluation_metrics.png', dpi=150)  # Save figure\n",
        "plt.show()"
      ]
    },
    {
      "cell_type": "markdown",
      "metadata": {},
      "source": [
        "### Model confusion matrix and classification analysis with test_set"
      ]
    },
    {
      "cell_type": "markdown",
      "metadata": {},
      "source": [
        "#### Prepare the dataset"
      ]
    },
    {
      "cell_type": "code",
      "execution_count": 44,
      "metadata": {},
      "outputs": [],
      "source": [
        "X_test = []  # Initialize an empty list to store images\n",
        "Y_test = []  # Initialize an empty list to store labels\n",
        "\n",
        "for _ in range(844):  # Loop through the test_set\n",
        "    img_batch, label_batch = test_set.next()\n",
        "    for img, label in zip(img_batch, label_batch):\n",
        "        X_test.append(img)\n",
        "        Y_test.append(label)\n",
        "\n",
        "# Convert the lists to NumPy arrays\n",
        "X_test = np.array(X_test)\n",
        "Y_test = np.array(Y_test).flatten()  # Flatten Y_test to make it one-dimensional"
      ]
    },
    {
      "cell_type": "code",
      "execution_count": 45,
      "metadata": {},
      "outputs": [
        {
          "name": "stdout",
          "output_type": "stream",
          "text": [
            "(16576, 256, 256, 3)\n",
            "(16576,)\n"
          ]
        }
      ],
      "source": [
        "print(X_test.shape)\n",
        "print(Y_test.shape)"
      ]
    },
    {
      "cell_type": "markdown",
      "metadata": {},
      "source": [
        "#### Compute Confusion Matrix and plot the matrix for test set"
      ]
    },
    {
      "cell_type": "code",
      "execution_count": 46,
      "metadata": {},
      "outputs": [],
      "source": [
        "from sklearn.metrics import confusion_matrix"
      ]
    },
    {
      "cell_type": "code",
      "execution_count": 47,
      "metadata": {},
      "outputs": [],
      "source": [
        "def generate_confusion_matrix(X, y, model, save_name=None):\n",
        "    \"\"\"\n",
        "    Generate and plot a confusion matrix.\n",
        "\n",
        "    Args:\n",
        "    X: Input data.\n",
        "    y: True labels.\n",
        "    model: The trained model.\n",
        "    class_labels (list): List of class labels.\n",
        "    save_name (str, optional): File path to save the figure. Default is None (not saved).\n",
        "\n",
        "    Returns:\n",
        "    None\n",
        "    \"\"\"  \n",
        "    \n",
        "    \n",
        "    y_pred = model.predict(X).reshape(-1)\n",
        "    y_pred = np.where(y_pred<0.97,0,1) \n",
        "\n",
        "    cm = confusion_matrix(y, y_pred)\n",
        "    print(\"---  Confusion Matrix  ---\")\n",
        "    print(cm)\n",
        "    \n",
        "    class_labels = {'healthy', 'powdery_mildew'}\n",
        "\n",
        "    plt.figure(figsize=(8, 6))\n",
        "    sns.set(font_scale=1.2)\n",
        "\n",
        "    sns.heatmap(cm, annot=True, fmt=\"d\", cmap=\"cool\",\n",
        "                xticklabels=class_labels, yticklabels=class_labels)\n",
        "\n",
        "    plt.xlabel('Predicted')\n",
        "    plt.ylabel('Actual')\n",
        "    plt.title('Confusion Matrix')\n",
        "\n",
        "    if save_name:\n",
        "        plt.savefig(f'{file_path}/{save_name}', dpi=150)  # Save the figure\n",
        "\n",
        "    plt.show()\n"
      ]
    },
    {
      "cell_type": "code",
      "execution_count": 48,
      "metadata": {},
      "outputs": [
        {
          "name": "stdout",
          "output_type": "stream",
          "text": [
            "---  Confusion Matrix  ---\n",
            "[[8200    0]\n",
            " [ 138 8238]]\n"
          ]
        },
        {
          "data": {
            "image/png": "[encoded data removed]",
            "text/plain": [
              "<Figure size 800x600 with 2 Axes>"
            ]
          },
          "metadata": {},
          "output_type": "display_data"
        }
      ],
      "source": [
        "generate_confusion_matrix(X_test, Y_test, model, save_name=\"confusion_matrix_test.png\")"
      ]
    },
    {
      "cell_type": "markdown",
      "metadata": {},
      "source": [
        "#### Generate Classification Report for test set"
      ]
    },
    {
      "cell_type": "code",
      "execution_count": 49,
      "metadata": {},
      "outputs": [],
      "source": [
        "from sklearn.metrics import classification_report\n",
        "import os"
      ]
    },
    {
      "cell_type": "code",
      "execution_count": 50,
      "metadata": {},
      "outputs": [],
      "source": [
        "def generate_classification_report(X, y, model, save_name):\n",
        "    \"\"\"\n",
        "    Generate a classification report and save it to a CSV file.\n",
        "\n",
        "    Args:\n",
        "    X: Input data.\n",
        "    y: True labels.\n",
        "    model: The trained model.\n",
        "    target_names (list): List of class labels.\n",
        "    save_name (str): File name for saving the report as a CSV file.\n",
        "\n",
        "    Returns:\n",
        "    None\n",
        "    \"\"\"\n",
        "    \n",
        "    # Generate predictions\n",
        "    y_pred = model.predict(X).reshape(-1)\n",
        "    y_pred = np.where(y_pred<0.97,0,1) \n",
        "    \n",
        "    class_names = ['healthy', 'powdery_mildew']\n",
        "\n",
        "    # Generate the classification report as a dictionary\n",
        "    report = classification_report(y, y_pred, target_names=class_names, output_dict=True)\n",
        "\n",
        "    # Create a DataFrame from the report and transpose it for better readability\n",
        "    df_report = pd.DataFrame(report).transpose()\n",
        "\n",
        "    # Save the report to a CSV file\n",
        "    csv_file_path = os.path.join(file_path, save_name)\n",
        "    df_report.to_csv(csv_file_path, index=True)\n"
      ]
    },
    {
      "cell_type": "code",
      "execution_count": 51,
      "metadata": {},
      "outputs": [],
      "source": [
        "generate_classification_report(X_test, Y_test, model, save_name=\"classification_report_test.csv\")"
      ]
    },
    {
      "cell_type": "markdown",
      "metadata": {},
      "source": [
        "### New/Live life data prediction"
      ]
    },
    {
      "cell_type": "markdown",
      "metadata": {},
      "source": [
        "Load a random image as PIL"
      ]
    },
    {
      "cell_type": "code",
      "execution_count": 30,
      "metadata": {},
      "outputs": [
        {
          "name": "stdout",
          "output_type": "stream",
          "text": [
            "Image shape: (100, 100), Image mode: RGB\n"
          ]
        },
        {
          "data": {
            "image/jpeg": "[encoded data removed]",
            "image/png": "[encoded data removed]",
            "text/plain": [
              "<PIL.Image.Image image mode=RGB size=100x100>"
            ]
          },
          "execution_count": 30,
          "metadata": {},
          "output_type": "execute_result"
        }
      ],
      "source": [
        "from tensorflow.keras.preprocessing import image\n",
        "\n",
        "pointer = 20\n",
        "label = labels[1]  # select healthy [0] or powdery_mildew contained [1]\n",
        "\n",
        "pil_image = image.load_img(test_path + '/' + label + '/' + os.listdir(test_path+'/' + label)[pointer],\n",
        "                           target_size=image_shape, color_mode='rgb')\n",
        "print(f'Image shape: {pil_image.size}, Image mode: {pil_image.mode}')\n",
        "pil_image"
      ]
    },
    {
      "cell_type": "markdown",
      "metadata": {},
      "source": [
        "Predict the new/live data to its class with a probability"
      ]
    },
    {
      "cell_type": "code",
      "execution_count": 31,
      "metadata": {},
      "outputs": [
        {
          "name": "stdout",
          "output_type": "stream",
          "text": [
            "(1, 100, 100, 3)\n",
            "0.9970659\n",
            "powdery_mildew\n"
          ]
        }
      ],
      "source": [
        "#convert image to array\n",
        "\n",
        "test_image = image.img_to_array(pil_image)\n",
        "test_image = np.expand_dims(test_image, axis=0)/255\n",
        "print(test_image.shape)\n",
        "\n",
        "#fit the trained model for class probabilities\n",
        "pred_prob = model.predict(test_image)[0, 0]\n",
        "\n",
        "target_map = {v: k for k, v in train_set.class_indices.items()}\n",
        "pred_class = target_map[pred_prob > 0.97]\n",
        "\n",
        "if pred_class == target_map[0]:\n",
        "    pred_prob = 1 - pred_prob\n",
        "\n",
        "print(pred_prob)\n",
        "print(pred_class)"
      ]
    },
    {
      "cell_type": "markdown",
      "metadata": {},
      "source": [
        "## Push files to Repo"
      ]
    },
    {
      "cell_type": "code",
      "execution_count": null,
      "metadata": {},
      "outputs": [],
      "source": [
        "with open('.gitignore', 'r') as file:\n",
        "    contents = file.read()\n",
        "    print(contents)"
      ]
    },
    {
      "cell_type": "markdown",
      "metadata": {},
      "source": [
        "Install Git LFS for large file storage"
      ]
    },
    {
      "cell_type": "code",
      "execution_count": 43,
      "metadata": {},
      "outputs": [
        {
          "name": "stdout",
          "output_type": "stream",
          "text": [
            "Updated Git hooks.\n",
            "Git LFS initialized.\n"
          ]
        }
      ],
      "source": [
        "!git lfs install"
      ]
    },
    {
      "cell_type": "markdown",
      "metadata": {},
      "source": [
        "Track files with the .h5 extension"
      ]
    },
    {
      "cell_type": "code",
      "execution_count": 44,
      "metadata": {},
      "outputs": [
        {
          "name": "stdout",
          "output_type": "stream",
          "text": [
            "Tracking \"outputs/v1-mildew/*.h5\"\n"
          ]
        }
      ],
      "source": [
        "!git lfs track \"outputs/v1-mildew/*.h5\""
      ]
    },
    {
      "cell_type": "code",
      "execution_count": 46,
      "metadata": {},
      "outputs": [],
      "source": [
        "!git lfs push --all origin main"
      ]
    },
    {
      "cell_type": "code",
      "execution_count": null,
      "metadata": {},
      "outputs": [],
      "source": [
        "!git add .\n",
        "!git commit -m\"Add large file and new plots to github\"\n",
        "!git push"
      ]
    },
    {
      "cell_type": "markdown",
      "metadata": {},
      "source": [
        "Push the reduced sized new model and it's metrics to repo"
      ]
    },
    {
      "cell_type": "code",
      "execution_count": 71,
      "metadata": {},
      "outputs": [
        {
          "name": "stderr",
          "output_type": "stream",
          "text": [
            "warning: in the working copy of 'jupyter_notebooks/DataModellingandEvaluation.ipynb', LF will be replaced by CRLF the next time Git touches it\n"
          ]
        },
        {
          "name": "stdout",
          "output_type": "stream",
          "text": [
            "[main 5587849] add new slots\n",
            " 2 files changed, 110 insertions(+), 6 deletions(-)\n",
            " create mode 100644 outputs/v1-mildew/model_evaluation_metrics.png\n"
          ]
        },
        {
          "name": "stderr",
          "output_type": "stream",
          "text": [
            "To https://github.com/yuyizhong/ML-Mildew-Detector-.git\n",
            "   0c72935..5587849  main -> main\n"
          ]
        }
      ],
      "source": [
        "!git add .\n",
        "!git commit -m\"add new slots\"\n",
        "!git push"
      ]
    }
  ],
  "metadata": {
    "accelerator": "GPU",
    "colab": {
      "name": "Data Practitioner Jupyter Notebook.ipynb",
      "provenance": [],
      "toc_visible": true
    },
    "interpreter": {
      "hash": "8b8334dab9339717f727a1deaf837b322d7a41c20d15cc86be99a8e69ceec8ce"
    },
    "kernelspec": {
      "display_name": "Python 3.8.12 64-bit ('3.8.12': pyenv)",
      "name": "python3"
    },
    "language_info": {
      "codemirror_mode": {
        "name": "ipython",
        "version": 3
      },
      "file_extension": ".py",
      "mimetype": "text/x-python",
      "name": "python",
      "nbconvert_exporter": "python",
      "pygments_lexer": "ipython3",
      "version": "3.8.12"
    },
    "orig_nbformat": 2
  },
  "nbformat": 4,
  "nbformat_minor": 2
}
